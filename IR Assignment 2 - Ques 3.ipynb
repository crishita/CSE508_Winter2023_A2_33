{
 "cells": [
  {
   "cell_type": "code",
   "execution_count": 13,
   "id": "06a2bbaa",
   "metadata": {},
   "outputs": [],
   "source": [
    "import numpy as np\n",
    "import pandas as pd\n",
    "import matplotlib.pyplot as plt\n",
    "import math"
   ]
  },
  {
   "cell_type": "code",
   "execution_count": 17,
   "id": "f926feb6",
   "metadata": {},
   "outputs": [],
   "source": [
    "file = open(\"IR-assignment-2-data.txt\",'r')\n",
    "\n",
    "count_url = 0\n",
    "rel_dict = {}\n",
    "url_list = []\n",
    "rel_75 = []\n",
    "total_rel = 0\n",
    "for line in file.readlines():\n",
    "    tokens = line.split(\" \")\n",
    "    if tokens[1] == 'qid:4':\n",
    "        count_url = count_url + 1\n",
    "        rel_dict[count_url] = tokens[0]\n",
    "        url_list.append((tokens[0],line))\n",
    "        feature_75 = tokens[76].split(\":\")[1]\n",
    "        rel_75.append([tokens[0],float(feature_75)])\n",
    "        if tokens[0]>'0':\n",
    "            total_rel = total_rel + 1"
   ]
  },
  {
   "cell_type": "code",
   "execution_count": 10,
   "id": "cbcbc05d",
   "metadata": {},
   "outputs": [
    {
     "name": "stdout",
     "output_type": "stream",
     "text": [
      "Number of files that can be created are: \n",
      "19893497375938370599826047614905329896936840170566570588205180312704857992695193482412686565431050240000000000000000000000\n"
     ]
    }
   ],
   "source": [
    "def get_count_files(pair_list):\n",
    "    rel_0 = 0\n",
    "    rel_1 = 0\n",
    "    rel_2 = 0\n",
    "    rel_3 = 0\n",
    "    rel_4 = 0\n",
    "    for i in pair_list:\n",
    "        if i[0] == '0':\n",
    "            rel_0 = rel_0 + 1\n",
    "        elif i[0] == '1':\n",
    "            rel_1 = rel_1 + 1\n",
    "        elif i[0] == '2':\n",
    "            rel_2 = rel_2 + 1\n",
    "        elif i[0] == '3':\n",
    "            rel_3 = rel_3 + 1\n",
    "        elif i[0] == '4':\n",
    "            rel_4 = rel_4 + 1\n",
    "    return math.factorial(rel_0)*math.factorial(rel_1)*math.factorial(rel_2)*math.factorial(rel_3)*math.factorial(rel_4)\n",
    "\n",
    "def arrange_max_dcg(pair_list):\n",
    "    sorted_list = sorted(pair_list, key=lambda x:(x[0], x[1]), reverse=True)\n",
    "    file = open(\"output.txt\",\"w\")\n",
    "    for i in sorted_list:\n",
    "        file.write(i[1])\n",
    "    file.close()\n",
    "    return get_count_files(pair_list)\n",
    "        \n",
    "print(\"Number of files that can be created are: \")\n",
    "print(arrange_max_dcg(url_list))"
   ]
  },
  {
   "cell_type": "code",
   "execution_count": 11,
   "id": "6ee2b440",
   "metadata": {},
   "outputs": [
    {
     "name": "stdout",
     "output_type": "stream",
     "text": [
      "nDCG\n",
      "For entire document:  0.6357153091990775\n",
      "At position 50:  0.37071213897397365\n",
      "\n",
      "nDCG using another formula\n",
      "For entire document:  0.5784691984582591\n",
      "At position 50:  0.35612494416255847\n"
     ]
    }
   ],
   "source": [
    "def dcg_1(relevance_dict):\n",
    "    ans = 0\n",
    "    for i in range(1,len(relevance_dict)+1):\n",
    "        ans = ans + (float(relevance_dict[i])/math.log2(i+1))\n",
    "    return ans\n",
    "\n",
    "def dcg_2(relevance_dict):\n",
    "    ans = 0\n",
    "    for i in range(1,len(relevance_dict)+1):\n",
    "        ans = ans + ((pow(2,float(relevance_dict[i]))-1)/math.log2(i+1))\n",
    "    return ans\n",
    "\n",
    "def ndcg_1(relevance_dict, sorted_dict):\n",
    "    dcg = dcg_1(relevance_dict)\n",
    "    idcg = dcg_1(sorted_dict)\n",
    "    return dcg/idcg\n",
    "\n",
    "def ndcg_2(relevance_dict, sorted_dict):\n",
    "    dcg = dcg_2(relevance_dict)\n",
    "    idcg = dcg_2(sorted_dict)\n",
    "    return dcg/idcg\n",
    "\n",
    "sorted_dict = {}\n",
    "sorted_list = sorted(rel_dict.items(), key=lambda x:x[1], reverse=True)\n",
    "for i in range(len(sorted_list)):\n",
    "    sorted_dict[i+1] = sorted_list[i][1]\n",
    "print(\"nDCG\")\n",
    "print(\"For entire document: \", ndcg_1(rel_dict, sorted_dict))\n",
    "\n",
    "sorted_dict_50 = {}\n",
    "rel_dict_50 = {}\n",
    "for i in range(50):\n",
    "    sorted_dict_50[i+1] = sorted_list[i][1]\n",
    "for i in range(1,51):\n",
    "    rel_dict_50[i] = rel_dict[i]\n",
    "print(\"At position 50: \", ndcg_1(rel_dict_50, sorted_dict_50))\n",
    "\n",
    "print(\"\\nnDCG using another formula\")\n",
    "print(\"For entire document: \", ndcg_2(rel_dict, sorted_dict))\n",
    "print(\"At position 50: \", ndcg_2(rel_dict_50, sorted_dict_50))"
   ]
  },
  {
   "cell_type": "code",
   "execution_count": 20,
   "id": "389d9e21",
   "metadata": {},
   "outputs": [
    {
     "data": {
      "image/png": "[encoded data removed]",
      "text/plain": [
       "<Figure size 432x288 with 1 Axes>"
      ]
     },
     "metadata": {
      "needs_background": "light"
     },
     "output_type": "display_data"
    }
   ],
   "source": [
    "precision = []\n",
    "recall = []\n",
    "cum = 0\n",
    "counter = 0\n",
    "\n",
    "sorted_rel_75 = sorted(rel_75, key=lambda x:x[1], reverse=True)\n",
    "for tup in sorted_rel_75:\n",
    "    counter= counter+1\n",
    "    recall.append(cum/total_rel)\n",
    "    precision.append(cum/counter)\n",
    "    if tup[0]>'0':\n",
    "        cum = cum+1\n",
    "        \n",
    "plt.plot(recall, precision)\n",
    "plt.title('Precision Vs Recall')\n",
    "plt.ylabel('Precision')\n",
    "plt.xlabel('Recall')\n",
    "plt.show()"
   ]
  }
 ],
 "metadata": {
  "kernelspec": {
   "display_name": "Python 3 (ipykernel)",
   "language": "python",
   "name": "python3"
  },
  "language_info": {
   "codemirror_mode": {
    "name": "ipython",
    "version": 3
   },
   "file_extension": ".py",
   "mimetype": "text/x-python",
   "name": "python",
   "nbconvert_exporter": "python",
   "pygments_lexer": "ipython3",
   "version": "3.10.6"
  }
 },
 "nbformat": 4,
 "nbformat_minor": 5
}
